{
 "cells": [
  {
   "cell_type": "code",
   "execution_count": 1,
   "metadata": {},
   "outputs": [],
   "source": [
    "%matplotlib inline\n",
    "from matplotlib import style\n",
    "style.use('fivethirtyeight')\n",
    "import matplotlib.pyplot as plt\n",
    "\n",
    "import numpy as np\n",
    "import pandas as pd\n",
    "\n",
    "import datetime as dt\n",
    "\n",
    "\n",
    "import sqlalchemy\n",
    "from sqlalchemy.ext.automap import automap_base\n",
    "from sqlalchemy.orm import Session\n",
    "from sqlalchemy import create_engine, func, inspect, distinct\n",
    "import sqlite3\n",
    "from sqlite3 import Error"
   ]
  },
  {
   "cell_type": "code",
   "execution_count": 2,
   "metadata": {},
   "outputs": [],
   "source": [
    "database = \"/Users/claytonhribar/Documents/Citi-bike-project/static/python/sql_1.sqlite3\"\n",
    "\n",
    "engine = create_engine(\"sqlite:////Users/claytonhribar/Documents/Citi-bike-project/static/python/sql_1.sqlite3\")"
   ]
  },
  {
   "cell_type": "code",
   "execution_count": 3,
   "metadata": {},
   "outputs": [
    {
     "name": "stdout",
     "output_type": "stream",
     "text": [
      "2.6.0\n"
     ]
    }
   ],
   "source": [
    "def create_connection(db_file):\n",
    "    \"\"\" create a database connection to a SQLite database \"\"\"\n",
    "    conn = None\n",
    "    try:\n",
    "        conn = sqlite3.connect(db_file)\n",
    "        print(sqlite3.version)\n",
    "    except Error as e:\n",
    "        print(e)\n",
    "    finally:\n",
    "        if conn:\n",
    "            conn.close()\n",
    "\n",
    "\n",
    "if __name__ == '__main__':\n",
    "    create_connection(database)"
   ]
  },
  {
   "cell_type": "code",
   "execution_count": 4,
   "metadata": {},
   "outputs": [],
   "source": [
    "conn = engine.connect()\n"
   ]
  },
  {
   "cell_type": "code",
   "execution_count": 5,
   "metadata": {},
   "outputs": [],
   "source": [
    "Base = automap_base()\n",
    "\n",
    "Base.prepare(engine, reflect=True)"
   ]
  },
  {
   "cell_type": "code",
   "execution_count": 7,
   "metadata": {},
   "outputs": [
    {
     "data": {
      "text/plain": [
       "['rides_df', 'station_info']"
      ]
     },
     "execution_count": 7,
     "metadata": {},
     "output_type": "execute_result"
    }
   ],
   "source": [
    "Base.classes.keys()"
   ]
  },
  {
   "cell_type": "code",
   "execution_count": 9,
   "metadata": {},
   "outputs": [],
   "source": [
    "rides = Base.classes.rides_df\n",
    "\n",
    "stations = Base.classes.rides_df"
   ]
  },
  {
   "cell_type": "code",
   "execution_count": 10,
   "metadata": {},
   "outputs": [],
   "source": [
    "session = Session(engine)"
   ]
  },
  {
   "cell_type": "code",
   "execution_count": 14,
   "metadata": {},
   "outputs": [],
   "source": [
    "rides = engine.execute('SELECT * FROM rides_df')"
   ]
  },
  {
   "cell_type": "code",
   "execution_count": 15,
   "metadata": {},
   "outputs": [],
   "source": [
    "rides_df = pd.DataFrame(rides)"
   ]
  },
  {
   "cell_type": "code",
   "execution_count": 16,
   "metadata": {},
   "outputs": [
    {
     "data": {
      "text/html": [
       "<div>\n",
       "<style scoped>\n",
       "    .dataframe tbody tr th:only-of-type {\n",
       "        vertical-align: middle;\n",
       "    }\n",
       "\n",
       "    .dataframe tbody tr th {\n",
       "        vertical-align: top;\n",
       "    }\n",
       "\n",
       "    .dataframe thead th {\n",
       "        text-align: right;\n",
       "    }\n",
       "</style>\n",
       "<table border=\"1\" class=\"dataframe\">\n",
       "  <thead>\n",
       "    <tr style=\"text-align: right;\">\n",
       "      <th></th>\n",
       "      <th>0</th>\n",
       "      <th>1</th>\n",
       "      <th>2</th>\n",
       "      <th>3</th>\n",
       "      <th>4</th>\n",
       "      <th>5</th>\n",
       "      <th>6</th>\n",
       "      <th>7</th>\n",
       "    </tr>\n",
       "  </thead>\n",
       "  <tbody>\n",
       "    <tr>\n",
       "      <th>0</th>\n",
       "      <td>1</td>\n",
       "      <td>534</td>\n",
       "      <td>2020-04-01 00:00:15.280000</td>\n",
       "      <td>3656</td>\n",
       "      <td>545</td>\n",
       "      <td>Subscriber</td>\n",
       "      <td>1990</td>\n",
       "      <td>2</td>\n",
       "    </tr>\n",
       "    <tr>\n",
       "      <th>1</th>\n",
       "      <td>2</td>\n",
       "      <td>529</td>\n",
       "      <td>2020-04-01 00:02:28.943000</td>\n",
       "      <td>3163</td>\n",
       "      <td>3301</td>\n",
       "      <td>Subscriber</td>\n",
       "      <td>1974</td>\n",
       "      <td>1</td>\n",
       "    </tr>\n",
       "    <tr>\n",
       "      <th>2</th>\n",
       "      <td>3</td>\n",
       "      <td>1488</td>\n",
       "      <td>2020-04-01 00:02:56.090000</td>\n",
       "      <td>3164</td>\n",
       "      <td>3605</td>\n",
       "      <td>Subscriber</td>\n",
       "      <td>1982</td>\n",
       "      <td>1</td>\n",
       "    </tr>\n",
       "    <tr>\n",
       "      <th>3</th>\n",
       "      <td>4</td>\n",
       "      <td>341</td>\n",
       "      <td>2020-04-01 00:03:25.141000</td>\n",
       "      <td>3827</td>\n",
       "      <td>3869</td>\n",
       "      <td>Subscriber</td>\n",
       "      <td>1996</td>\n",
       "      <td>1</td>\n",
       "    </tr>\n",
       "    <tr>\n",
       "      <th>4</th>\n",
       "      <td>5</td>\n",
       "      <td>2206</td>\n",
       "      <td>2020-04-01 00:05:35.279000</td>\n",
       "      <td>3890</td>\n",
       "      <td>3058</td>\n",
       "      <td>Subscriber</td>\n",
       "      <td>1977</td>\n",
       "      <td>1</td>\n",
       "    </tr>\n",
       "  </tbody>\n",
       "</table>\n",
       "</div>"
      ],
      "text/plain": [
       "   0     1                           2     3     4           5     6  7\n",
       "0  1   534  2020-04-01 00:00:15.280000  3656   545  Subscriber  1990  2\n",
       "1  2   529  2020-04-01 00:02:28.943000  3163  3301  Subscriber  1974  1\n",
       "2  3  1488  2020-04-01 00:02:56.090000  3164  3605  Subscriber  1982  1\n",
       "3  4   341  2020-04-01 00:03:25.141000  3827  3869  Subscriber  1996  1\n",
       "4  5  2206  2020-04-01 00:05:35.279000  3890  3058  Subscriber  1977  1"
      ]
     },
     "execution_count": 16,
     "metadata": {},
     "output_type": "execute_result"
    }
   ],
   "source": [
    "rides_df.head()"
   ]
  },
  {
   "cell_type": "code",
   "execution_count": 21,
   "metadata": {},
   "outputs": [
    {
     "data": {
      "text/plain": [
       "RangeIndex(start=0, stop=8, step=1)"
      ]
     },
     "execution_count": 21,
     "metadata": {},
     "output_type": "execute_result"
    }
   ],
   "source": [
    "rides_df.columns"
   ]
  },
  {
   "cell_type": "code",
   "execution_count": 24,
   "metadata": {},
   "outputs": [],
   "source": [
    "rides_df = rides_df.rename(columns={0:'ride_no', 1:'tripduration', 2:'starttime', 3:'start_station_id', 4:'end_station_id', 5:'membership', 6:'birthyear', 7:'gender'})"
   ]
  },
  {
   "cell_type": "code",
   "execution_count": 29,
   "metadata": {},
   "outputs": [
    {
     "data": {
      "text/plain": [
       "ride_no              int64\n",
       "tripduration         int64\n",
       "starttime           object\n",
       "start_station_id     int64\n",
       "end_station_id       int64\n",
       "membership          object\n",
       "birthyear            int64\n",
       "gender               int64\n",
       "dtype: object"
      ]
     },
     "execution_count": 29,
     "metadata": {},
     "output_type": "execute_result"
    }
   ],
   "source": [
    "rides_df.dtypes"
   ]
  },
  {
   "cell_type": "code",
   "execution_count": 30,
   "metadata": {},
   "outputs": [],
   "source": [
    "rides_df['starttime'] = pd.to_datetime(rides_df['starttime'])"
   ]
  },
  {
   "cell_type": "code",
   "execution_count": 31,
   "metadata": {},
   "outputs": [
    {
     "data": {
      "text/plain": [
       "ride_no                      int64\n",
       "tripduration                 int64\n",
       "starttime           datetime64[ns]\n",
       "start_station_id             int64\n",
       "end_station_id               int64\n",
       "membership                  object\n",
       "birthyear                    int64\n",
       "gender                       int64\n",
       "dtype: object"
      ]
     },
     "execution_count": 31,
     "metadata": {},
     "output_type": "execute_result"
    }
   ],
   "source": [
    "rides_df.dtypes"
   ]
  },
  {
   "cell_type": "code",
   "execution_count": 32,
   "metadata": {},
   "outputs": [
    {
     "data": {
      "text/html": [
       "<div>\n",
       "<style scoped>\n",
       "    .dataframe tbody tr th:only-of-type {\n",
       "        vertical-align: middle;\n",
       "    }\n",
       "\n",
       "    .dataframe tbody tr th {\n",
       "        vertical-align: top;\n",
       "    }\n",
       "\n",
       "    .dataframe thead th {\n",
       "        text-align: right;\n",
       "    }\n",
       "</style>\n",
       "<table border=\"1\" class=\"dataframe\">\n",
       "  <thead>\n",
       "    <tr style=\"text-align: right;\">\n",
       "      <th></th>\n",
       "      <th>ride_no</th>\n",
       "      <th>tripduration</th>\n",
       "      <th>starttime</th>\n",
       "      <th>start_station_id</th>\n",
       "      <th>end_station_id</th>\n",
       "      <th>membership</th>\n",
       "      <th>birthyear</th>\n",
       "      <th>gender</th>\n",
       "    </tr>\n",
       "    <tr>\n",
       "      <th>starttime</th>\n",
       "      <th></th>\n",
       "      <th></th>\n",
       "      <th></th>\n",
       "      <th></th>\n",
       "      <th></th>\n",
       "      <th></th>\n",
       "      <th></th>\n",
       "      <th></th>\n",
       "    </tr>\n",
       "  </thead>\n",
       "  <tbody>\n",
       "    <tr>\n",
       "      <th>2020-01-31</th>\n",
       "      <td>1240596</td>\n",
       "      <td>1240596</td>\n",
       "      <td>1240596</td>\n",
       "      <td>1240596</td>\n",
       "      <td>1240596</td>\n",
       "      <td>1240596</td>\n",
       "      <td>1240596</td>\n",
       "      <td>1240596</td>\n",
       "    </tr>\n",
       "    <tr>\n",
       "      <th>2020-02-29</th>\n",
       "      <td>1146830</td>\n",
       "      <td>1146830</td>\n",
       "      <td>1146830</td>\n",
       "      <td>1146830</td>\n",
       "      <td>1146830</td>\n",
       "      <td>1146830</td>\n",
       "      <td>1146830</td>\n",
       "      <td>1146830</td>\n",
       "    </tr>\n",
       "    <tr>\n",
       "      <th>2020-03-31</th>\n",
       "      <td>1068457</td>\n",
       "      <td>1068457</td>\n",
       "      <td>1068457</td>\n",
       "      <td>1068457</td>\n",
       "      <td>1068457</td>\n",
       "      <td>1068457</td>\n",
       "      <td>1068457</td>\n",
       "      <td>1068457</td>\n",
       "    </tr>\n",
       "    <tr>\n",
       "      <th>2020-04-30</th>\n",
       "      <td>682762</td>\n",
       "      <td>682762</td>\n",
       "      <td>682762</td>\n",
       "      <td>682762</td>\n",
       "      <td>682762</td>\n",
       "      <td>682762</td>\n",
       "      <td>682762</td>\n",
       "      <td>682762</td>\n",
       "    </tr>\n",
       "    <tr>\n",
       "      <th>2020-05-31</th>\n",
       "      <td>1487890</td>\n",
       "      <td>1487890</td>\n",
       "      <td>1487890</td>\n",
       "      <td>1487890</td>\n",
       "      <td>1487890</td>\n",
       "      <td>1487890</td>\n",
       "      <td>1487890</td>\n",
       "      <td>1487890</td>\n",
       "    </tr>\n",
       "    <tr>\n",
       "      <th>2020-06-30</th>\n",
       "      <td>1882273</td>\n",
       "      <td>1882273</td>\n",
       "      <td>1882273</td>\n",
       "      <td>1882273</td>\n",
       "      <td>1882273</td>\n",
       "      <td>1882273</td>\n",
       "      <td>1882273</td>\n",
       "      <td>1882273</td>\n",
       "    </tr>\n",
       "    <tr>\n",
       "      <th>2020-07-31</th>\n",
       "      <td>2105808</td>\n",
       "      <td>2105808</td>\n",
       "      <td>2105808</td>\n",
       "      <td>2105808</td>\n",
       "      <td>2105808</td>\n",
       "      <td>2105808</td>\n",
       "      <td>2105808</td>\n",
       "      <td>2105808</td>\n",
       "    </tr>\n",
       "    <tr>\n",
       "      <th>2020-08-31</th>\n",
       "      <td>2329514</td>\n",
       "      <td>2329514</td>\n",
       "      <td>2329514</td>\n",
       "      <td>2329514</td>\n",
       "      <td>2329514</td>\n",
       "      <td>2329514</td>\n",
       "      <td>2329514</td>\n",
       "      <td>2329514</td>\n",
       "    </tr>\n",
       "  </tbody>\n",
       "</table>\n",
       "</div>"
      ],
      "text/plain": [
       "            ride_no  tripduration  starttime  start_station_id  \\\n",
       "starttime                                                        \n",
       "2020-01-31  1240596       1240596    1240596           1240596   \n",
       "2020-02-29  1146830       1146830    1146830           1146830   \n",
       "2020-03-31  1068457       1068457    1068457           1068457   \n",
       "2020-04-30   682762        682762     682762            682762   \n",
       "2020-05-31  1487890       1487890    1487890           1487890   \n",
       "2020-06-30  1882273       1882273    1882273           1882273   \n",
       "2020-07-31  2105808       2105808    2105808           2105808   \n",
       "2020-08-31  2329514       2329514    2329514           2329514   \n",
       "\n",
       "            end_station_id  membership  birthyear   gender  \n",
       "starttime                                                   \n",
       "2020-01-31         1240596     1240596    1240596  1240596  \n",
       "2020-02-29         1146830     1146830    1146830  1146830  \n",
       "2020-03-31         1068457     1068457    1068457  1068457  \n",
       "2020-04-30          682762      682762     682762   682762  \n",
       "2020-05-31         1487890     1487890    1487890  1487890  \n",
       "2020-06-30         1882273     1882273    1882273  1882273  \n",
       "2020-07-31         2105808     2105808    2105808  2105808  \n",
       "2020-08-31         2329514     2329514    2329514  2329514  "
      ]
     },
     "execution_count": 32,
     "metadata": {},
     "output_type": "execute_result"
    }
   ],
   "source": [
    "rides_df.resample('M', on='starttime').count()"
   ]
  },
  {
   "cell_type": "code",
   "execution_count": 33,
   "metadata": {},
   "outputs": [],
   "source": [
    "rides_over_time = rides_df.resample('M', on='starttime').count()"
   ]
  },
  {
   "cell_type": "code",
   "execution_count": 36,
   "metadata": {},
   "outputs": [
    {
     "data": {
      "text/html": [
       "<div>\n",
       "<style scoped>\n",
       "    .dataframe tbody tr th:only-of-type {\n",
       "        vertical-align: middle;\n",
       "    }\n",
       "\n",
       "    .dataframe tbody tr th {\n",
       "        vertical-align: top;\n",
       "    }\n",
       "\n",
       "    .dataframe thead th {\n",
       "        text-align: right;\n",
       "    }\n",
       "</style>\n",
       "<table border=\"1\" class=\"dataframe\">\n",
       "  <thead>\n",
       "    <tr style=\"text-align: right;\">\n",
       "      <th></th>\n",
       "      <th>ride_no</th>\n",
       "      <th>tripduration</th>\n",
       "      <th>starttime</th>\n",
       "      <th>start_station_id</th>\n",
       "      <th>end_station_id</th>\n",
       "      <th>membership</th>\n",
       "      <th>birthyear</th>\n",
       "      <th>gender</th>\n",
       "    </tr>\n",
       "    <tr>\n",
       "      <th>starttime</th>\n",
       "      <th></th>\n",
       "      <th></th>\n",
       "      <th></th>\n",
       "      <th></th>\n",
       "      <th></th>\n",
       "      <th></th>\n",
       "      <th></th>\n",
       "      <th></th>\n",
       "    </tr>\n",
       "  </thead>\n",
       "  <tbody>\n",
       "    <tr>\n",
       "      <th>2020-01-31</th>\n",
       "      <td>1240596</td>\n",
       "      <td>1240596</td>\n",
       "      <td>1240596</td>\n",
       "      <td>1240596</td>\n",
       "      <td>1240596</td>\n",
       "      <td>1240596</td>\n",
       "      <td>1240596</td>\n",
       "      <td>1240596</td>\n",
       "    </tr>\n",
       "    <tr>\n",
       "      <th>2020-02-29</th>\n",
       "      <td>1146830</td>\n",
       "      <td>1146830</td>\n",
       "      <td>1146830</td>\n",
       "      <td>1146830</td>\n",
       "      <td>1146830</td>\n",
       "      <td>1146830</td>\n",
       "      <td>1146830</td>\n",
       "      <td>1146830</td>\n",
       "    </tr>\n",
       "    <tr>\n",
       "      <th>2020-03-31</th>\n",
       "      <td>1068457</td>\n",
       "      <td>1068457</td>\n",
       "      <td>1068457</td>\n",
       "      <td>1068457</td>\n",
       "      <td>1068457</td>\n",
       "      <td>1068457</td>\n",
       "      <td>1068457</td>\n",
       "      <td>1068457</td>\n",
       "    </tr>\n",
       "    <tr>\n",
       "      <th>2020-04-30</th>\n",
       "      <td>682762</td>\n",
       "      <td>682762</td>\n",
       "      <td>682762</td>\n",
       "      <td>682762</td>\n",
       "      <td>682762</td>\n",
       "      <td>682762</td>\n",
       "      <td>682762</td>\n",
       "      <td>682762</td>\n",
       "    </tr>\n",
       "    <tr>\n",
       "      <th>2020-05-31</th>\n",
       "      <td>1487890</td>\n",
       "      <td>1487890</td>\n",
       "      <td>1487890</td>\n",
       "      <td>1487890</td>\n",
       "      <td>1487890</td>\n",
       "      <td>1487890</td>\n",
       "      <td>1487890</td>\n",
       "      <td>1487890</td>\n",
       "    </tr>\n",
       "    <tr>\n",
       "      <th>2020-06-30</th>\n",
       "      <td>1882273</td>\n",
       "      <td>1882273</td>\n",
       "      <td>1882273</td>\n",
       "      <td>1882273</td>\n",
       "      <td>1882273</td>\n",
       "      <td>1882273</td>\n",
       "      <td>1882273</td>\n",
       "      <td>1882273</td>\n",
       "    </tr>\n",
       "    <tr>\n",
       "      <th>2020-07-31</th>\n",
       "      <td>2105808</td>\n",
       "      <td>2105808</td>\n",
       "      <td>2105808</td>\n",
       "      <td>2105808</td>\n",
       "      <td>2105808</td>\n",
       "      <td>2105808</td>\n",
       "      <td>2105808</td>\n",
       "      <td>2105808</td>\n",
       "    </tr>\n",
       "    <tr>\n",
       "      <th>2020-08-31</th>\n",
       "      <td>2329514</td>\n",
       "      <td>2329514</td>\n",
       "      <td>2329514</td>\n",
       "      <td>2329514</td>\n",
       "      <td>2329514</td>\n",
       "      <td>2329514</td>\n",
       "      <td>2329514</td>\n",
       "      <td>2329514</td>\n",
       "    </tr>\n",
       "  </tbody>\n",
       "</table>\n",
       "</div>"
      ],
      "text/plain": [
       "            ride_no  tripduration  starttime  start_station_id  \\\n",
       "starttime                                                        \n",
       "2020-01-31  1240596       1240596    1240596           1240596   \n",
       "2020-02-29  1146830       1146830    1146830           1146830   \n",
       "2020-03-31  1068457       1068457    1068457           1068457   \n",
       "2020-04-30   682762        682762     682762            682762   \n",
       "2020-05-31  1487890       1487890    1487890           1487890   \n",
       "2020-06-30  1882273       1882273    1882273           1882273   \n",
       "2020-07-31  2105808       2105808    2105808           2105808   \n",
       "2020-08-31  2329514       2329514    2329514           2329514   \n",
       "\n",
       "            end_station_id  membership  birthyear   gender  \n",
       "starttime                                                   \n",
       "2020-01-31         1240596     1240596    1240596  1240596  \n",
       "2020-02-29         1146830     1146830    1146830  1146830  \n",
       "2020-03-31         1068457     1068457    1068457  1068457  \n",
       "2020-04-30          682762      682762     682762   682762  \n",
       "2020-05-31         1487890     1487890    1487890  1487890  \n",
       "2020-06-30         1882273     1882273    1882273  1882273  \n",
       "2020-07-31         2105808     2105808    2105808  2105808  \n",
       "2020-08-31         2329514     2329514    2329514  2329514  "
      ]
     },
     "execution_count": 36,
     "metadata": {},
     "output_type": "execute_result"
    }
   ],
   "source": [
    "rides_over_time"
   ]
  },
  {
   "cell_type": "code",
   "execution_count": 38,
   "metadata": {},
   "outputs": [
    {
     "data": {
      "text/plain": [
       "<BarContainer object of 8 artists>"
      ]
     },
     "execution_count": 38,
     "metadata": {},
     "output_type": "execute_result"
    },
    {
     "data": {
      "image/png": "[encoded data removed]",
      "text/plain": [
       "<Figure size 432x288 with 1 Axes>"
      ]
     },
     "metadata": {},
     "output_type": "display_data"
    }
   ],
   "source": [
    "x_values = ['Jan','Feb','March','April','May','June','July', 'Aug']\n",
    "\n",
    "y_values = rides_over_time['ride_no']\n",
    "\n",
    "plt.bar(x_values, y_values)"
   ]
  },
  {
   "cell_type": "code",
   "execution_count": 39,
   "metadata": {},
   "outputs": [],
   "source": [
    "avg_trip_time = rides_df.resample('M', on='starttime').mean()['tripduration']"
   ]
  },
  {
   "cell_type": "code",
   "execution_count": 40,
   "metadata": {},
   "outputs": [
    {
     "data": {
      "text/plain": [
       "starttime\n",
       "2020-01-31     784.629907\n",
       "2020-02-29     792.074992\n",
       "2020-03-31    1160.832886\n",
       "2020-04-30    1613.020301\n",
       "2020-05-31    1631.915412\n",
       "2020-06-30    1639.090759\n",
       "2020-07-31    1587.440199\n",
       "2020-08-31    1399.632232\n",
       "Freq: M, Name: tripduration, dtype: float64"
      ]
     },
     "execution_count": 40,
     "metadata": {},
     "output_type": "execute_result"
    }
   ],
   "source": [
    "avg_trip_time"
   ]
  },
  {
   "cell_type": "code",
   "execution_count": 42,
   "metadata": {},
   "outputs": [
    {
     "data": {
      "text/plain": [
       "792.0749919342884"
      ]
     },
     "execution_count": 42,
     "metadata": {},
     "output_type": "execute_result"
    }
   ],
   "source": []
  },
  {
   "cell_type": "code",
   "execution_count": 43,
   "metadata": {},
   "outputs": [
    {
     "data": {
      "text/plain": [
       "[<matplotlib.lines.Line2D at 0x2d2f90ed0>]"
      ]
     },
     "execution_count": 43,
     "metadata": {},
     "output_type": "execute_result"
    },
    {
     "data": {
      "image/png": "[encoded data removed]",
      "text/plain": [
       "<Figure size 432x288 with 1 Axes>"
      ]
     },
     "metadata": {},
     "output_type": "display_data"
    }
   ],
   "source": [
    "trip_durations = avg_trip_time\n",
    "plt.plot(x_values, trip_durations)"
   ]
  },
  {
   "cell_type": "code",
   "execution_count": 49,
   "metadata": {},
   "outputs": [],
   "source": [
    "rider_makeup_membership = rides_df['membership'].value_counts()\n",
    "\n",
    "rider_makeup_sex = rides_df['gender'].value_counts()"
   ]
  },
  {
   "cell_type": "code",
   "execution_count": 134,
   "metadata": {},
   "outputs": [
    {
     "data": {
      "text/plain": [
       "Subscriber    9152952\n",
       "Customer      2791178\n",
       "Name: membership, dtype: int64"
      ]
     },
     "execution_count": 134,
     "metadata": {},
     "output_type": "execute_result"
    }
   ],
   "source": [
    "rider_makeup_membership"
   ]
  },
  {
   "cell_type": "code",
   "execution_count": 135,
   "metadata": {},
   "outputs": [
    {
     "data": {
      "text/plain": [
       "([<matplotlib.patches.Wedge at 0x27c15c790>,\n",
       "  <matplotlib.patches.Wedge at 0x27c166150>],\n",
       " [Text(-0.7369492894184442, -0.8166429726787897, 'Subscriber'),\n",
       "  Text(0.7369492511886264, 0.8166430071778752, 'Customer')],\n",
       " [Text(-0.40197233968278767, -0.44544162146115795, '76.6%'),\n",
       "  Text(0.4019723188301598, 0.445441640278841, '23.4%')])"
      ]
     },
     "execution_count": 135,
     "metadata": {},
     "output_type": "execute_result"
    },
    {
     "data": {
      "image/png": "[encoded data removed]",
      "text/plain": [
       "<Figure size 432x288 with 1 Axes>"
      ]
     },
     "metadata": {},
     "output_type": "display_data"
    }
   ],
   "source": [
    "member_labels = ['Subscriber','Customer']\n",
    "plt.pie(rider_makeup_membership, labels=member_labels, autopct='%1.1f%%',\n",
    "        shadow=True, startangle=90)"
   ]
  },
  {
   "cell_type": "code",
   "execution_count": 50,
   "metadata": {},
   "outputs": [
    {
     "data": {
      "text/plain": [
       "1    7265552\n",
       "2    3362977\n",
       "0    1315601\n",
       "Name: gender, dtype: int64"
      ]
     },
     "execution_count": 50,
     "metadata": {},
     "output_type": "execute_result"
    }
   ],
   "source": [
    "rider_makeup_sex"
   ]
  },
  {
   "cell_type": "code",
   "execution_count": 59,
   "metadata": {},
   "outputs": [
    {
     "data": {
      "text/plain": [
       "([<matplotlib.patches.Wedge at 0x27a723b90>,\n",
       "  <matplotlib.patches.Wedge at 0x27a730550>,\n",
       "  <matplotlib.patches.Wedge at 0x27a730fd0>],\n",
       " [Text(-1.1312182910659434, -0.4004312399874, 'male'),\n",
       "  Text(1.0999813922342256, -0.0063981824336994024, 'female'),\n",
       "  Text(0.3730872599873647, 1.0347975147028141, 'unknown')],\n",
       " [Text(-0.6598773364551336, -0.23358488999264998, '60.8%'),\n",
       "  Text(0.5999898503095775, -0.0034899176911087648, '28.2%'),\n",
       "  Text(0.2035021418112898, 0.5644350080197167, '11.0%')])"
      ]
     },
     "execution_count": 59,
     "metadata": {},
     "output_type": "execute_result"
    },
    {
     "data": {
      "image/png": "[encoded data removed]",
      "text/plain": [
       "<Figure size 432x288 with 1 Axes>"
      ]
     },
     "metadata": {},
     "output_type": "display_data"
    }
   ],
   "source": [
    "labels = ['male','female', 'unknown']\n",
    "\n",
    "explode = (0.1, 0, 0)\n",
    "\n",
    "plt.pie(rider_makeup_sex, explode=explode, labels=labels, autopct='%1.1f%%',\n",
    "        shadow=True, startangle=90)"
   ]
  },
  {
   "cell_type": "code",
   "execution_count": 66,
   "metadata": {},
   "outputs": [],
   "source": [
    "male_riders = rides_df.loc[rides_df['gender']== 1]"
   ]
  },
  {
   "cell_type": "code",
   "execution_count": 71,
   "metadata": {},
   "outputs": [
    {
     "data": {
      "text/plain": [
       "([<matplotlib.patches.Wedge at 0x27da0c350>,\n",
       "  <matplotlib.patches.Wedge at 0x27da0ccd0>],\n",
       " [Text(-0.4429720669324299, -1.0068643145516734, 'Subscriber'),\n",
       "  Text(0.4429720669324301, 1.0068643145516734, 'Customer')],\n",
       " [Text(-0.24162112741768899, -0.5491987170281853, '86.8%'),\n",
       "  Text(0.2416211274176891, 0.5491987170281853, '13.2%')])"
      ]
     },
     "execution_count": 71,
     "metadata": {},
     "output_type": "execute_result"
    },
    {
     "data": {
      "image/png": "[encoded data removed]",
      "text/plain": [
       "<Figure size 432x288 with 1 Axes>"
      ]
     },
     "metadata": {},
     "output_type": "display_data"
    }
   ],
   "source": [
    "male_values = male_riders.membership.value_counts()\n",
    "\n",
    "member_labels = ['Subscriber', 'Customer']\n",
    "\n",
    "plt.pie(male_values, labels=member_labels, autopct='%1.1f%%',\n",
    "        shadow=True, startangle=90)"
   ]
  },
  {
   "cell_type": "code",
   "execution_count": 72,
   "metadata": {},
   "outputs": [],
   "source": [
    "female_riders = rides_df.loc[rides_df['gender']== 2]"
   ]
  },
  {
   "cell_type": "code",
   "execution_count": 73,
   "metadata": {},
   "outputs": [
    {
     "data": {
      "text/plain": [
       "([<matplotlib.patches.Wedge at 0x27cfadb50>,\n",
       "  <matplotlib.patches.Wedge at 0x27cfb7510>],\n",
       " [Text(-0.6545701955306974, -0.8840462991964305, 'Subscriber'),\n",
       "  Text(0.6545701955306976, 0.8840462991964304, 'Customer')],\n",
       " [Text(-0.3570382884712895, -0.48220707228896204, '79.7%'),\n",
       "  Text(0.35703828847128954, 0.482207072288962, '20.3%')])"
      ]
     },
     "execution_count": 73,
     "metadata": {},
     "output_type": "execute_result"
    },
    {
     "data": {
      "image/png": "[encoded data removed]",
      "text/plain": [
       "<Figure size 432x288 with 1 Axes>"
      ]
     },
     "metadata": {},
     "output_type": "display_data"
    }
   ],
   "source": [
    "female_values = female_riders.membership.value_counts()\n",
    "\n",
    "plt.pie(female_values, labels=member_labels, autopct='%1.1f%%',\n",
    "        shadow=True, startangle=90)"
   ]
  },
  {
   "cell_type": "code",
   "execution_count": 98,
   "metadata": {},
   "outputs": [],
   "source": [
    "subscribers = pd.DataFrame(rides_df.loc[rides_df['membership']=='Subscriber']).resample('M', on='starttime').count()\n",
    "customers = rides_df.loc[rides_df['membership']=='Customer'].resample('M', on='starttime').count()"
   ]
  },
  {
   "cell_type": "code",
   "execution_count": 97,
   "metadata": {},
   "outputs": [
    {
     "data": {
      "text/html": [
       "<div>\n",
       "<style scoped>\n",
       "    .dataframe tbody tr th:only-of-type {\n",
       "        vertical-align: middle;\n",
       "    }\n",
       "\n",
       "    .dataframe tbody tr th {\n",
       "        vertical-align: top;\n",
       "    }\n",
       "\n",
       "    .dataframe thead th {\n",
       "        text-align: right;\n",
       "    }\n",
       "</style>\n",
       "<table border=\"1\" class=\"dataframe\">\n",
       "  <thead>\n",
       "    <tr style=\"text-align: right;\">\n",
       "      <th></th>\n",
       "      <th>ride_no</th>\n",
       "      <th>tripduration</th>\n",
       "      <th>starttime</th>\n",
       "      <th>start_station_id</th>\n",
       "      <th>end_station_id</th>\n",
       "      <th>membership</th>\n",
       "      <th>birthyear</th>\n",
       "      <th>gender</th>\n",
       "    </tr>\n",
       "    <tr>\n",
       "      <th>starttime</th>\n",
       "      <th></th>\n",
       "      <th></th>\n",
       "      <th></th>\n",
       "      <th></th>\n",
       "      <th></th>\n",
       "      <th></th>\n",
       "      <th></th>\n",
       "      <th></th>\n",
       "    </tr>\n",
       "  </thead>\n",
       "  <tbody>\n",
       "    <tr>\n",
       "      <th>2020-01-31</th>\n",
       "      <td>1145819</td>\n",
       "      <td>1145819</td>\n",
       "      <td>1145819</td>\n",
       "      <td>1145819</td>\n",
       "      <td>1145819</td>\n",
       "      <td>1145819</td>\n",
       "      <td>1145819</td>\n",
       "      <td>1145819</td>\n",
       "    </tr>\n",
       "    <tr>\n",
       "      <th>2020-02-29</th>\n",
       "      <td>1054927</td>\n",
       "      <td>1054927</td>\n",
       "      <td>1054927</td>\n",
       "      <td>1054927</td>\n",
       "      <td>1054927</td>\n",
       "      <td>1054927</td>\n",
       "      <td>1054927</td>\n",
       "      <td>1054927</td>\n",
       "    </tr>\n",
       "    <tr>\n",
       "      <th>2020-03-31</th>\n",
       "      <td>914068</td>\n",
       "      <td>914068</td>\n",
       "      <td>914068</td>\n",
       "      <td>914068</td>\n",
       "      <td>914068</td>\n",
       "      <td>914068</td>\n",
       "      <td>914068</td>\n",
       "      <td>914068</td>\n",
       "    </tr>\n",
       "    <tr>\n",
       "      <th>2020-04-30</th>\n",
       "      <td>516495</td>\n",
       "      <td>516495</td>\n",
       "      <td>516495</td>\n",
       "      <td>516495</td>\n",
       "      <td>516495</td>\n",
       "      <td>516495</td>\n",
       "      <td>516495</td>\n",
       "      <td>516495</td>\n",
       "    </tr>\n",
       "    <tr>\n",
       "      <th>2020-05-31</th>\n",
       "      <td>1012059</td>\n",
       "      <td>1012059</td>\n",
       "      <td>1012059</td>\n",
       "      <td>1012059</td>\n",
       "      <td>1012059</td>\n",
       "      <td>1012059</td>\n",
       "      <td>1012059</td>\n",
       "      <td>1012059</td>\n",
       "    </tr>\n",
       "    <tr>\n",
       "      <th>2020-06-30</th>\n",
       "      <td>1306688</td>\n",
       "      <td>1306688</td>\n",
       "      <td>1306688</td>\n",
       "      <td>1306688</td>\n",
       "      <td>1306688</td>\n",
       "      <td>1306688</td>\n",
       "      <td>1306688</td>\n",
       "      <td>1306688</td>\n",
       "    </tr>\n",
       "    <tr>\n",
       "      <th>2020-07-31</th>\n",
       "      <td>1530982</td>\n",
       "      <td>1530982</td>\n",
       "      <td>1530982</td>\n",
       "      <td>1530982</td>\n",
       "      <td>1530982</td>\n",
       "      <td>1530982</td>\n",
       "      <td>1530982</td>\n",
       "      <td>1530982</td>\n",
       "    </tr>\n",
       "    <tr>\n",
       "      <th>2020-08-31</th>\n",
       "      <td>1671914</td>\n",
       "      <td>1671914</td>\n",
       "      <td>1671914</td>\n",
       "      <td>1671914</td>\n",
       "      <td>1671914</td>\n",
       "      <td>1671914</td>\n",
       "      <td>1671914</td>\n",
       "      <td>1671914</td>\n",
       "    </tr>\n",
       "  </tbody>\n",
       "</table>\n",
       "</div>"
      ],
      "text/plain": [
       "            ride_no  tripduration  starttime  start_station_id  \\\n",
       "starttime                                                        \n",
       "2020-01-31  1145819       1145819    1145819           1145819   \n",
       "2020-02-29  1054927       1054927    1054927           1054927   \n",
       "2020-03-31   914068        914068     914068            914068   \n",
       "2020-04-30   516495        516495     516495            516495   \n",
       "2020-05-31  1012059       1012059    1012059           1012059   \n",
       "2020-06-30  1306688       1306688    1306688           1306688   \n",
       "2020-07-31  1530982       1530982    1530982           1530982   \n",
       "2020-08-31  1671914       1671914    1671914           1671914   \n",
       "\n",
       "            end_station_id  membership  birthyear   gender  \n",
       "starttime                                                   \n",
       "2020-01-31         1145819     1145819    1145819  1145819  \n",
       "2020-02-29         1054927     1054927    1054927  1054927  \n",
       "2020-03-31          914068      914068     914068   914068  \n",
       "2020-04-30          516495      516495     516495   516495  \n",
       "2020-05-31         1012059     1012059    1012059  1012059  \n",
       "2020-06-30         1306688     1306688    1306688  1306688  \n",
       "2020-07-31         1530982     1530982    1530982  1530982  \n",
       "2020-08-31         1671914     1671914    1671914  1671914  "
      ]
     },
     "execution_count": 97,
     "metadata": {},
     "output_type": "execute_result"
    }
   ],
   "source": [
    "subscribers"
   ]
  },
  {
   "cell_type": "code",
   "execution_count": 99,
   "metadata": {},
   "outputs": [
    {
     "data": {
      "text/html": [
       "<div>\n",
       "<style scoped>\n",
       "    .dataframe tbody tr th:only-of-type {\n",
       "        vertical-align: middle;\n",
       "    }\n",
       "\n",
       "    .dataframe tbody tr th {\n",
       "        vertical-align: top;\n",
       "    }\n",
       "\n",
       "    .dataframe thead th {\n",
       "        text-align: right;\n",
       "    }\n",
       "</style>\n",
       "<table border=\"1\" class=\"dataframe\">\n",
       "  <thead>\n",
       "    <tr style=\"text-align: right;\">\n",
       "      <th></th>\n",
       "      <th>ride_no</th>\n",
       "      <th>tripduration</th>\n",
       "      <th>starttime</th>\n",
       "      <th>start_station_id</th>\n",
       "      <th>end_station_id</th>\n",
       "      <th>membership</th>\n",
       "      <th>birthyear</th>\n",
       "      <th>gender</th>\n",
       "    </tr>\n",
       "    <tr>\n",
       "      <th>starttime</th>\n",
       "      <th></th>\n",
       "      <th></th>\n",
       "      <th></th>\n",
       "      <th></th>\n",
       "      <th></th>\n",
       "      <th></th>\n",
       "      <th></th>\n",
       "      <th></th>\n",
       "    </tr>\n",
       "  </thead>\n",
       "  <tbody>\n",
       "    <tr>\n",
       "      <th>2020-01-31</th>\n",
       "      <td>94777</td>\n",
       "      <td>94777</td>\n",
       "      <td>94777</td>\n",
       "      <td>94777</td>\n",
       "      <td>94777</td>\n",
       "      <td>94777</td>\n",
       "      <td>94777</td>\n",
       "      <td>94777</td>\n",
       "    </tr>\n",
       "    <tr>\n",
       "      <th>2020-02-29</th>\n",
       "      <td>91903</td>\n",
       "      <td>91903</td>\n",
       "      <td>91903</td>\n",
       "      <td>91903</td>\n",
       "      <td>91903</td>\n",
       "      <td>91903</td>\n",
       "      <td>91903</td>\n",
       "      <td>91903</td>\n",
       "    </tr>\n",
       "    <tr>\n",
       "      <th>2020-03-31</th>\n",
       "      <td>154389</td>\n",
       "      <td>154389</td>\n",
       "      <td>154389</td>\n",
       "      <td>154389</td>\n",
       "      <td>154389</td>\n",
       "      <td>154389</td>\n",
       "      <td>154389</td>\n",
       "      <td>154389</td>\n",
       "    </tr>\n",
       "    <tr>\n",
       "      <th>2020-04-30</th>\n",
       "      <td>166267</td>\n",
       "      <td>166267</td>\n",
       "      <td>166267</td>\n",
       "      <td>166267</td>\n",
       "      <td>166267</td>\n",
       "      <td>166267</td>\n",
       "      <td>166267</td>\n",
       "      <td>166267</td>\n",
       "    </tr>\n",
       "    <tr>\n",
       "      <th>2020-05-31</th>\n",
       "      <td>475831</td>\n",
       "      <td>475831</td>\n",
       "      <td>475831</td>\n",
       "      <td>475831</td>\n",
       "      <td>475831</td>\n",
       "      <td>475831</td>\n",
       "      <td>475831</td>\n",
       "      <td>475831</td>\n",
       "    </tr>\n",
       "    <tr>\n",
       "      <th>2020-06-30</th>\n",
       "      <td>575585</td>\n",
       "      <td>575585</td>\n",
       "      <td>575585</td>\n",
       "      <td>575585</td>\n",
       "      <td>575585</td>\n",
       "      <td>575585</td>\n",
       "      <td>575585</td>\n",
       "      <td>575585</td>\n",
       "    </tr>\n",
       "    <tr>\n",
       "      <th>2020-07-31</th>\n",
       "      <td>574826</td>\n",
       "      <td>574826</td>\n",
       "      <td>574826</td>\n",
       "      <td>574826</td>\n",
       "      <td>574826</td>\n",
       "      <td>574826</td>\n",
       "      <td>574826</td>\n",
       "      <td>574826</td>\n",
       "    </tr>\n",
       "    <tr>\n",
       "      <th>2020-08-31</th>\n",
       "      <td>657600</td>\n",
       "      <td>657600</td>\n",
       "      <td>657600</td>\n",
       "      <td>657600</td>\n",
       "      <td>657600</td>\n",
       "      <td>657600</td>\n",
       "      <td>657600</td>\n",
       "      <td>657600</td>\n",
       "    </tr>\n",
       "  </tbody>\n",
       "</table>\n",
       "</div>"
      ],
      "text/plain": [
       "            ride_no  tripduration  starttime  start_station_id  \\\n",
       "starttime                                                        \n",
       "2020-01-31    94777         94777      94777             94777   \n",
       "2020-02-29    91903         91903      91903             91903   \n",
       "2020-03-31   154389        154389     154389            154389   \n",
       "2020-04-30   166267        166267     166267            166267   \n",
       "2020-05-31   475831        475831     475831            475831   \n",
       "2020-06-30   575585        575585     575585            575585   \n",
       "2020-07-31   574826        574826     574826            574826   \n",
       "2020-08-31   657600        657600     657600            657600   \n",
       "\n",
       "            end_station_id  membership  birthyear  gender  \n",
       "starttime                                                  \n",
       "2020-01-31           94777       94777      94777   94777  \n",
       "2020-02-29           91903       91903      91903   91903  \n",
       "2020-03-31          154389      154389     154389  154389  \n",
       "2020-04-30          166267      166267     166267  166267  \n",
       "2020-05-31          475831      475831     475831  475831  \n",
       "2020-06-30          575585      575585     575585  575585  \n",
       "2020-07-31          574826      574826     574826  574826  \n",
       "2020-08-31          657600      657600     657600  657600  "
      ]
     },
     "execution_count": 99,
     "metadata": {},
     "output_type": "execute_result"
    }
   ],
   "source": [
    "customers"
   ]
  },
  {
   "cell_type": "code",
   "execution_count": 103,
   "metadata": {},
   "outputs": [],
   "source": [
    "y_subs = subscribers.ride_no\n",
    "\n",
    "y_custs = customers.ride_no"
   ]
  },
  {
   "cell_type": "code",
   "execution_count": 107,
   "metadata": {},
   "outputs": [
    {
     "data": {
      "text/plain": [
       "[<matplotlib.lines.Line2D at 0x27bfadc90>]"
      ]
     },
     "execution_count": 107,
     "metadata": {},
     "output_type": "execute_result"
    },
    {
     "data": {
      "image/png": "[encoded data removed]",
      "text/plain": [
       "<Figure size 432x288 with 1 Axes>"
      ]
     },
     "metadata": {},
     "output_type": "display_data"
    }
   ],
   "source": [
    "plt.plot(x_values, y_subs)\n",
    "plt.plot(x_values, y_custs)"
   ]
  },
  {
   "cell_type": "code",
   "execution_count": 123,
   "metadata": {},
   "outputs": [],
   "source": [
    "popular_stations = rides_df.groupby(['start_station_id']).count().sort_values('ride_no')"
   ]
  },
  {
   "cell_type": "code",
   "execution_count": 124,
   "metadata": {},
   "outputs": [
    {
     "data": {
      "text/html": [
       "<div>\n",
       "<style scoped>\n",
       "    .dataframe tbody tr th:only-of-type {\n",
       "        vertical-align: middle;\n",
       "    }\n",
       "\n",
       "    .dataframe tbody tr th {\n",
       "        vertical-align: top;\n",
       "    }\n",
       "\n",
       "    .dataframe thead th {\n",
       "        text-align: right;\n",
       "    }\n",
       "</style>\n",
       "<table border=\"1\" class=\"dataframe\">\n",
       "  <thead>\n",
       "    <tr style=\"text-align: right;\">\n",
       "      <th></th>\n",
       "      <th>ride_no</th>\n",
       "      <th>tripduration</th>\n",
       "      <th>starttime</th>\n",
       "      <th>end_station_id</th>\n",
       "      <th>membership</th>\n",
       "      <th>birthyear</th>\n",
       "      <th>gender</th>\n",
       "    </tr>\n",
       "    <tr>\n",
       "      <th>start_station_id</th>\n",
       "      <th></th>\n",
       "      <th></th>\n",
       "      <th></th>\n",
       "      <th></th>\n",
       "      <th></th>\n",
       "      <th></th>\n",
       "      <th></th>\n",
       "    </tr>\n",
       "  </thead>\n",
       "  <tbody>\n",
       "    <tr>\n",
       "      <th>4090</th>\n",
       "      <td>2</td>\n",
       "      <td>2</td>\n",
       "      <td>2</td>\n",
       "      <td>2</td>\n",
       "      <td>2</td>\n",
       "      <td>2</td>\n",
       "      <td>2</td>\n",
       "    </tr>\n",
       "    <tr>\n",
       "      <th>3912</th>\n",
       "      <td>3</td>\n",
       "      <td>3</td>\n",
       "      <td>3</td>\n",
       "      <td>3</td>\n",
       "      <td>3</td>\n",
       "      <td>3</td>\n",
       "      <td>3</td>\n",
       "    </tr>\n",
       "    <tr>\n",
       "      <th>4084</th>\n",
       "      <td>23</td>\n",
       "      <td>23</td>\n",
       "      <td>23</td>\n",
       "      <td>23</td>\n",
       "      <td>23</td>\n",
       "      <td>23</td>\n",
       "      <td>23</td>\n",
       "    </tr>\n",
       "    <tr>\n",
       "      <th>4087</th>\n",
       "      <td>26</td>\n",
       "      <td>26</td>\n",
       "      <td>26</td>\n",
       "      <td>26</td>\n",
       "      <td>26</td>\n",
       "      <td>26</td>\n",
       "      <td>26</td>\n",
       "    </tr>\n",
       "    <tr>\n",
       "      <th>4086</th>\n",
       "      <td>31</td>\n",
       "      <td>31</td>\n",
       "      <td>31</td>\n",
       "      <td>31</td>\n",
       "      <td>31</td>\n",
       "      <td>31</td>\n",
       "      <td>31</td>\n",
       "    </tr>\n",
       "    <tr>\n",
       "      <th>...</th>\n",
       "      <td>...</td>\n",
       "      <td>...</td>\n",
       "      <td>...</td>\n",
       "      <td>...</td>\n",
       "      <td>...</td>\n",
       "      <td>...</td>\n",
       "      <td>...</td>\n",
       "    </tr>\n",
       "    <tr>\n",
       "      <th>499</th>\n",
       "      <td>57859</td>\n",
       "      <td>57859</td>\n",
       "      <td>57859</td>\n",
       "      <td>57859</td>\n",
       "      <td>57859</td>\n",
       "      <td>57859</td>\n",
       "      <td>57859</td>\n",
       "    </tr>\n",
       "    <tr>\n",
       "      <th>435</th>\n",
       "      <td>58123</td>\n",
       "      <td>58123</td>\n",
       "      <td>58123</td>\n",
       "      <td>58123</td>\n",
       "      <td>58123</td>\n",
       "      <td>58123</td>\n",
       "      <td>58123</td>\n",
       "    </tr>\n",
       "    <tr>\n",
       "      <th>3141</th>\n",
       "      <td>58915</td>\n",
       "      <td>58915</td>\n",
       "      <td>58915</td>\n",
       "      <td>58915</td>\n",
       "      <td>58915</td>\n",
       "      <td>58915</td>\n",
       "      <td>58915</td>\n",
       "    </tr>\n",
       "    <tr>\n",
       "      <th>426</th>\n",
       "      <td>64629</td>\n",
       "      <td>64629</td>\n",
       "      <td>64629</td>\n",
       "      <td>64629</td>\n",
       "      <td>64629</td>\n",
       "      <td>64629</td>\n",
       "      <td>64629</td>\n",
       "    </tr>\n",
       "    <tr>\n",
       "      <th>514</th>\n",
       "      <td>65689</td>\n",
       "      <td>65689</td>\n",
       "      <td>65689</td>\n",
       "      <td>65689</td>\n",
       "      <td>65689</td>\n",
       "      <td>65689</td>\n",
       "      <td>65689</td>\n",
       "    </tr>\n",
       "  </tbody>\n",
       "</table>\n",
       "<p>1065 rows × 7 columns</p>\n",
       "</div>"
      ],
      "text/plain": [
       "                  ride_no  tripduration  starttime  end_station_id  \\\n",
       "start_station_id                                                     \n",
       "4090                    2             2          2               2   \n",
       "3912                    3             3          3               3   \n",
       "4084                   23            23         23              23   \n",
       "4087                   26            26         26              26   \n",
       "4086                   31            31         31              31   \n",
       "...                   ...           ...        ...             ...   \n",
       "499                 57859         57859      57859           57859   \n",
       "435                 58123         58123      58123           58123   \n",
       "3141                58915         58915      58915           58915   \n",
       "426                 64629         64629      64629           64629   \n",
       "514                 65689         65689      65689           65689   \n",
       "\n",
       "                  membership  birthyear  gender  \n",
       "start_station_id                                 \n",
       "4090                       2          2       2  \n",
       "3912                       3          3       3  \n",
       "4084                      23         23      23  \n",
       "4087                      26         26      26  \n",
       "4086                      31         31      31  \n",
       "...                      ...        ...     ...  \n",
       "499                    57859      57859   57859  \n",
       "435                    58123      58123   58123  \n",
       "3141                   58915      58915   58915  \n",
       "426                    64629      64629   64629  \n",
       "514                    65689      65689   65689  \n",
       "\n",
       "[1065 rows x 7 columns]"
      ]
     },
     "execution_count": 124,
     "metadata": {},
     "output_type": "execute_result"
    }
   ],
   "source": [
    "popular_stations"
   ]
  },
  {
   "cell_type": "code",
   "execution_count": 127,
   "metadata": {},
   "outputs": [],
   "source": [
    "most_popular = engine.execute('SELECT (station_location) FROM station_info WHERE station_id = 514')"
   ]
  },
  {
   "cell_type": "code",
   "execution_count": 131,
   "metadata": {},
   "outputs": [
    {
     "name": "stdout",
     "output_type": "stream",
     "text": [
      "12 Ave & W 40 St\n"
     ]
    }
   ],
   "source": [
    "print(most_popular.first()[0])"
   ]
  },
  {
   "cell_type": "code",
   "execution_count": 132,
   "metadata": {},
   "outputs": [],
   "source": [
    "least_popular = engine.execute('SELECT (station_location) FROM station_info WHERE station_id = 4090')"
   ]
  },
  {
   "cell_type": "code",
   "execution_count": 133,
   "metadata": {},
   "outputs": [
    {
     "name": "stdout",
     "output_type": "stream",
     "text": [
      "Grand Concourse & E 156 St\n"
     ]
    }
   ],
   "source": [
    "print(least_popular.first()[0])"
   ]
  },
  {
   "cell_type": "code",
   "execution_count": null,
   "metadata": {},
   "outputs": [],
   "source": []
  }
 ],
 "metadata": {
  "kernelspec": {
   "display_name": "Python 3",
   "language": "python",
   "name": "python3"
  },
  "language_info": {
   "codemirror_mode": {
    "name": "ipython",
    "version": 3
   },
   "file_extension": ".py",
   "mimetype": "text/x-python",
   "name": "python",
   "nbconvert_exporter": "python",
   "pygments_lexer": "ipython3",
   "version": "3.7.6"
  }
 },
 "nbformat": 4,
 "nbformat_minor": 4
}
