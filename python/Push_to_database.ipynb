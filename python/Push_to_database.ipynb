{
 "cells": [
  {
   "cell_type": "code",
   "execution_count": 1,
   "metadata": {},
   "outputs": [],
   "source": [
    "import glob\n",
    "import pandas as pd\n",
    "from zipfile import ZipFile\n",
    "\n",
    "import sqlite3\n",
    "from sqlalchemy import create_engine, func, inspect, distinct\n",
    "import os\n",
    "\n",
    "from sqlalchemy.ext.declarative import declarative_base\n",
    "\n"
   ]
  },
  {
   "cell_type": "code",
   "execution_count": 3,
   "metadata": {},
   "outputs": [],
   "source": [
    "files = glob.glob('/Users/claytonhribar/Documents/Citi-bike-project/Data/2020_data/*.zip')"
   ]
  },
  {
   "cell_type": "code",
   "execution_count": 4,
   "metadata": {},
   "outputs": [
    {
     "name": "stdout",
     "output_type": "stream",
     "text": [
      "202004-citibike-tripdata.csv\n",
      "202003-citibike-tripdata.csv\n",
      "202006-citibike-tripdata.csv\n",
      "202001-citibike-tripdata.csv\n",
      "202008-citibike-tripdata.csv\n",
      "202007-citibike-tripdata.csv\n",
      "202002-citibike-tripdata.csv\n",
      "202005-citibike-tripdata.csv\n"
     ]
    }
   ],
   "source": [
    "table = []\n",
    "\n",
    "\n",
    "\n",
    "for i in files:\n",
    "    \n",
    "\n",
    "    zf = ZipFile(i)\n",
    "    \n",
    "    name = zf.namelist()[0]\n",
    "    \n",
    "    print(name)\n",
    "\n",
    "    df = pd.read_csv(zf.open(name))\n",
    "    \n",
    "    #df['starttime'] = pd.to_datetime(df.starttime)\n",
    "    \n",
    "    #df = df.set_index(['starttime'])\n",
    "    \n",
    "    table.append(df)"
   ]
  },
  {
   "cell_type": "code",
   "execution_count": 5,
   "metadata": {},
   "outputs": [],
   "source": [
    "bike_df = pd.concat(table)"
   ]
  },
  {
   "cell_type": "code",
   "execution_count": 6,
   "metadata": {},
   "outputs": [
    {
     "data": {
      "text/html": [
       "<div>\n",
       "<style scoped>\n",
       "    .dataframe tbody tr th:only-of-type {\n",
       "        vertical-align: middle;\n",
       "    }\n",
       "\n",
       "    .dataframe tbody tr th {\n",
       "        vertical-align: top;\n",
       "    }\n",
       "\n",
       "    .dataframe thead th {\n",
       "        text-align: right;\n",
       "    }\n",
       "</style>\n",
       "<table border=\"1\" class=\"dataframe\">\n",
       "  <thead>\n",
       "    <tr style=\"text-align: right;\">\n",
       "      <th></th>\n",
       "      <th>tripduration</th>\n",
       "      <th>starttime</th>\n",
       "      <th>stoptime</th>\n",
       "      <th>start station id</th>\n",
       "      <th>start station name</th>\n",
       "      <th>start station latitude</th>\n",
       "      <th>start station longitude</th>\n",
       "      <th>end station id</th>\n",
       "      <th>end station name</th>\n",
       "      <th>end station latitude</th>\n",
       "      <th>end station longitude</th>\n",
       "      <th>bikeid</th>\n",
       "      <th>usertype</th>\n",
       "      <th>birth year</th>\n",
       "      <th>gender</th>\n",
       "    </tr>\n",
       "  </thead>\n",
       "  <tbody>\n",
       "    <tr>\n",
       "      <th>0</th>\n",
       "      <td>534</td>\n",
       "      <td>2020-04-01 00:00:15.2800</td>\n",
       "      <td>2020-04-01 00:09:09.8730</td>\n",
       "      <td>3656</td>\n",
       "      <td>E 2 St &amp; Avenue A</td>\n",
       "      <td>40.723077</td>\n",
       "      <td>-73.985836</td>\n",
       "      <td>545</td>\n",
       "      <td>E 23 St &amp; 1 Ave</td>\n",
       "      <td>40.736502</td>\n",
       "      <td>-73.978095</td>\n",
       "      <td>15162</td>\n",
       "      <td>Subscriber</td>\n",
       "      <td>1990</td>\n",
       "      <td>2</td>\n",
       "    </tr>\n",
       "    <tr>\n",
       "      <th>1</th>\n",
       "      <td>529</td>\n",
       "      <td>2020-04-01 00:02:28.9430</td>\n",
       "      <td>2020-04-01 00:11:18.3410</td>\n",
       "      <td>3163</td>\n",
       "      <td>Central Park West &amp; W 68 St</td>\n",
       "      <td>40.773407</td>\n",
       "      <td>-73.977825</td>\n",
       "      <td>3301</td>\n",
       "      <td>Columbus Ave &amp; W 95 St</td>\n",
       "      <td>40.791956</td>\n",
       "      <td>-73.968087</td>\n",
       "      <td>42861</td>\n",
       "      <td>Subscriber</td>\n",
       "      <td>1974</td>\n",
       "      <td>1</td>\n",
       "    </tr>\n",
       "    <tr>\n",
       "      <th>2</th>\n",
       "      <td>1488</td>\n",
       "      <td>2020-04-01 00:02:56.0900</td>\n",
       "      <td>2020-04-01 00:27:44.2530</td>\n",
       "      <td>3164</td>\n",
       "      <td>Columbus Ave &amp; W 72 St</td>\n",
       "      <td>40.777057</td>\n",
       "      <td>-73.978985</td>\n",
       "      <td>3605</td>\n",
       "      <td>31 Ave &amp; Crescent St</td>\n",
       "      <td>40.765835</td>\n",
       "      <td>-73.926547</td>\n",
       "      <td>35989</td>\n",
       "      <td>Subscriber</td>\n",
       "      <td>1982</td>\n",
       "      <td>1</td>\n",
       "    </tr>\n",
       "    <tr>\n",
       "      <th>3</th>\n",
       "      <td>341</td>\n",
       "      <td>2020-04-01 00:03:25.1410</td>\n",
       "      <td>2020-04-01 00:09:06.3190</td>\n",
       "      <td>3827</td>\n",
       "      <td>Halsey St &amp; Broadway</td>\n",
       "      <td>40.685650</td>\n",
       "      <td>-73.915640</td>\n",
       "      <td>3869</td>\n",
       "      <td>Van Buren St &amp; Broadway</td>\n",
       "      <td>40.692000</td>\n",
       "      <td>-73.926170</td>\n",
       "      <td>37548</td>\n",
       "      <td>Subscriber</td>\n",
       "      <td>1996</td>\n",
       "      <td>1</td>\n",
       "    </tr>\n",
       "    <tr>\n",
       "      <th>4</th>\n",
       "      <td>2206</td>\n",
       "      <td>2020-04-01 00:05:35.2790</td>\n",
       "      <td>2020-04-01 00:42:21.9080</td>\n",
       "      <td>3890</td>\n",
       "      <td>Grove St &amp; Broadway</td>\n",
       "      <td>40.690470</td>\n",
       "      <td>-73.923511</td>\n",
       "      <td>3058</td>\n",
       "      <td>Lewis Ave &amp; Kosciuszko St</td>\n",
       "      <td>40.692371</td>\n",
       "      <td>-73.937054</td>\n",
       "      <td>39701</td>\n",
       "      <td>Subscriber</td>\n",
       "      <td>1977</td>\n",
       "      <td>1</td>\n",
       "    </tr>\n",
       "  </tbody>\n",
       "</table>\n",
       "</div>"
      ],
      "text/plain": [
       "   tripduration                 starttime                  stoptime  \\\n",
       "0           534  2020-04-01 00:00:15.2800  2020-04-01 00:09:09.8730   \n",
       "1           529  2020-04-01 00:02:28.9430  2020-04-01 00:11:18.3410   \n",
       "2          1488  2020-04-01 00:02:56.0900  2020-04-01 00:27:44.2530   \n",
       "3           341  2020-04-01 00:03:25.1410  2020-04-01 00:09:06.3190   \n",
       "4          2206  2020-04-01 00:05:35.2790  2020-04-01 00:42:21.9080   \n",
       "\n",
       "   start station id           start station name  start station latitude  \\\n",
       "0              3656            E 2 St & Avenue A               40.723077   \n",
       "1              3163  Central Park West & W 68 St               40.773407   \n",
       "2              3164       Columbus Ave & W 72 St               40.777057   \n",
       "3              3827         Halsey St & Broadway               40.685650   \n",
       "4              3890          Grove St & Broadway               40.690470   \n",
       "\n",
       "   start station longitude  end station id           end station name  \\\n",
       "0               -73.985836             545            E 23 St & 1 Ave   \n",
       "1               -73.977825            3301     Columbus Ave & W 95 St   \n",
       "2               -73.978985            3605       31 Ave & Crescent St   \n",
       "3               -73.915640            3869    Van Buren St & Broadway   \n",
       "4               -73.923511            3058  Lewis Ave & Kosciuszko St   \n",
       "\n",
       "   end station latitude  end station longitude  bikeid    usertype  \\\n",
       "0             40.736502             -73.978095   15162  Subscriber   \n",
       "1             40.791956             -73.968087   42861  Subscriber   \n",
       "2             40.765835             -73.926547   35989  Subscriber   \n",
       "3             40.692000             -73.926170   37548  Subscriber   \n",
       "4             40.692371             -73.937054   39701  Subscriber   \n",
       "\n",
       "   birth year  gender  \n",
       "0        1990       2  \n",
       "1        1974       1  \n",
       "2        1982       1  \n",
       "3        1996       1  \n",
       "4        1977       1  "
      ]
     },
     "execution_count": 6,
     "metadata": {},
     "output_type": "execute_result"
    }
   ],
   "source": [
    "bike_df.head()"
   ]
  },
  {
   "cell_type": "code",
   "execution_count": 7,
   "metadata": {},
   "outputs": [
    {
     "data": {
      "text/plain": [
       "11944130"
      ]
     },
     "execution_count": 7,
     "metadata": {},
     "output_type": "execute_result"
    }
   ],
   "source": [
    "len(bike_df.index)"
   ]
  },
  {
   "cell_type": "code",
   "execution_count": 8,
   "metadata": {},
   "outputs": [
    {
     "data": {
      "text/plain": [
       "1076"
      ]
     },
     "execution_count": 8,
     "metadata": {},
     "output_type": "execute_result"
    }
   ],
   "source": [
    "len(bike_df['start station name'].unique())"
   ]
  },
  {
   "cell_type": "code",
   "execution_count": 252,
   "metadata": {},
   "outputs": [],
   "source": [
    "temp = bike_df.drop(columns = ['tripduration', 'starttime', 'stoptime','end station id', 'end station name', 'end station latitude', 'end station longitude','bikeid', 'usertype','birth year', 'gender'])\n",
    "temp2 = temp.sort_values(['start station id'])"
   ]
  },
  {
   "cell_type": "code",
   "execution_count": 253,
   "metadata": {},
   "outputs": [],
   "source": [
    "station_info = pd.DataFrame(temp2.drop_duplicates(subset = ['start station name'])).reindex()"
   ]
  },
  {
   "cell_type": "code",
   "execution_count": 254,
   "metadata": {},
   "outputs": [],
   "source": [
    "station_info = station_info.rename(columns = {'start station id': 'station_id', 'start station name':'station_location','start station latitude':'latitude', 'start station longitude':'longitude'})"
   ]
  },
  {
   "cell_type": "code",
   "execution_count": 256,
   "metadata": {},
   "outputs": [],
   "source": [
    "station_info = station_info.drop_duplicates(subset = ['station_id'])"
   ]
  },
  {
   "cell_type": "code",
   "execution_count": 257,
   "metadata": {},
   "outputs": [
    {
     "data": {
      "text/html": [
       "<div>\n",
       "<style scoped>\n",
       "    .dataframe tbody tr th:only-of-type {\n",
       "        vertical-align: middle;\n",
       "    }\n",
       "\n",
       "    .dataframe tbody tr th {\n",
       "        vertical-align: top;\n",
       "    }\n",
       "\n",
       "    .dataframe thead th {\n",
       "        text-align: right;\n",
       "    }\n",
       "</style>\n",
       "<table border=\"1\" class=\"dataframe\">\n",
       "  <thead>\n",
       "    <tr style=\"text-align: right;\">\n",
       "      <th></th>\n",
       "      <th>station_id</th>\n",
       "      <th>station_location</th>\n",
       "      <th>latitude</th>\n",
       "      <th>longitude</th>\n",
       "    </tr>\n",
       "  </thead>\n",
       "  <tbody>\n",
       "    <tr>\n",
       "      <th>579312</th>\n",
       "      <td>72</td>\n",
       "      <td>W 52 St &amp; 11 Ave</td>\n",
       "      <td>40.767272</td>\n",
       "      <td>-73.993929</td>\n",
       "    </tr>\n",
       "    <tr>\n",
       "      <th>853949</th>\n",
       "      <td>79</td>\n",
       "      <td>Franklin St &amp; W Broadway</td>\n",
       "      <td>40.719116</td>\n",
       "      <td>-74.006667</td>\n",
       "    </tr>\n",
       "    <tr>\n",
       "      <th>896319</th>\n",
       "      <td>82</td>\n",
       "      <td>St James Pl &amp; Pearl St</td>\n",
       "      <td>40.711174</td>\n",
       "      <td>-74.000165</td>\n",
       "    </tr>\n",
       "    <tr>\n",
       "      <th>1242341</th>\n",
       "      <td>83</td>\n",
       "      <td>Atlantic Ave &amp; Fort Greene Pl</td>\n",
       "      <td>40.683826</td>\n",
       "      <td>-73.976323</td>\n",
       "    </tr>\n",
       "    <tr>\n",
       "      <th>933531</th>\n",
       "      <td>116</td>\n",
       "      <td>W 17 St &amp; 8 Ave</td>\n",
       "      <td>40.741776</td>\n",
       "      <td>-74.001497</td>\n",
       "    </tr>\n",
       "    <tr>\n",
       "      <th>...</th>\n",
       "      <td>...</td>\n",
       "      <td>...</td>\n",
       "      <td>...</td>\n",
       "      <td>...</td>\n",
       "    </tr>\n",
       "    <tr>\n",
       "      <th>2266532</th>\n",
       "      <td>4110</td>\n",
       "      <td>Avenue D &amp; E 10 St</td>\n",
       "      <td>40.725066</td>\n",
       "      <td>-73.975158</td>\n",
       "    </tr>\n",
       "    <tr>\n",
       "      <th>2037427</th>\n",
       "      <td>4116</td>\n",
       "      <td>Gerard Ave &amp; E 164 St</td>\n",
       "      <td>40.830262</td>\n",
       "      <td>-73.923391</td>\n",
       "    </tr>\n",
       "    <tr>\n",
       "      <th>1698600</th>\n",
       "      <td>4122</td>\n",
       "      <td>Central Park W &amp; W 97 St</td>\n",
       "      <td>40.792495</td>\n",
       "      <td>-73.964171</td>\n",
       "    </tr>\n",
       "    <tr>\n",
       "      <th>1646994</th>\n",
       "      <td>4123</td>\n",
       "      <td>Central Park W &amp; W 103 St</td>\n",
       "      <td>40.796037</td>\n",
       "      <td>-73.961589</td>\n",
       "    </tr>\n",
       "    <tr>\n",
       "      <th>1646260</th>\n",
       "      <td>4124</td>\n",
       "      <td>Central Park W &amp; W 91 St</td>\n",
       "      <td>40.788665</td>\n",
       "      <td>-73.966801</td>\n",
       "    </tr>\n",
       "  </tbody>\n",
       "</table>\n",
       "<p>1062 rows × 4 columns</p>\n",
       "</div>"
      ],
      "text/plain": [
       "         station_id               station_location   latitude  longitude\n",
       "579312           72               W 52 St & 11 Ave  40.767272 -73.993929\n",
       "853949           79       Franklin St & W Broadway  40.719116 -74.006667\n",
       "896319           82         St James Pl & Pearl St  40.711174 -74.000165\n",
       "1242341          83  Atlantic Ave & Fort Greene Pl  40.683826 -73.976323\n",
       "933531          116                W 17 St & 8 Ave  40.741776 -74.001497\n",
       "...             ...                            ...        ...        ...\n",
       "2266532        4110             Avenue D & E 10 St  40.725066 -73.975158\n",
       "2037427        4116          Gerard Ave & E 164 St  40.830262 -73.923391\n",
       "1698600        4122       Central Park W & W 97 St  40.792495 -73.964171\n",
       "1646994        4123      Central Park W & W 103 St  40.796037 -73.961589\n",
       "1646260        4124       Central Park W & W 91 St  40.788665 -73.966801\n",
       "\n",
       "[1062 rows x 4 columns]"
      ]
     },
     "execution_count": 257,
     "metadata": {},
     "output_type": "execute_result"
    }
   ],
   "source": [
    "station_info"
   ]
  },
  {
   "cell_type": "code",
   "execution_count": 297,
   "metadata": {},
   "outputs": [],
   "source": [
    "rides_df = pd.DataFrame(bike_df.drop(columns=['start station name','stoptime', 'start station latitude', 'start station longitude', 'end station name', 'end station latitude', 'end station longitude','bikeid']))"
   ]
  },
  {
   "cell_type": "code",
   "execution_count": 298,
   "metadata": {},
   "outputs": [],
   "source": [
    "rides_df['starttime'] = pd.to_datetime(rides_df['starttime'])\n",
    "#rides_df['stoptime']=pd.to_datetime(rides_df['stoptime'])\n"
   ]
  },
  {
   "cell_type": "code",
   "execution_count": 299,
   "metadata": {},
   "outputs": [],
   "source": [
    "rides_df['ride_no'] = range(1, len(rides_df) + 1)"
   ]
  },
  {
   "cell_type": "code",
   "execution_count": 300,
   "metadata": {},
   "outputs": [
    {
     "data": {
      "text/plain": [
       "tripduration                 int64\n",
       "starttime           datetime64[ns]\n",
       "start station id             int64\n",
       "end station id               int64\n",
       "usertype                    object\n",
       "birth year                   int64\n",
       "gender                       int64\n",
       "ride_no                      int64\n",
       "dtype: object"
      ]
     },
     "execution_count": 300,
     "metadata": {},
     "output_type": "execute_result"
    }
   ],
   "source": [
    "rides_df.dtypes"
   ]
  },
  {
   "cell_type": "code",
   "execution_count": 315,
   "metadata": {},
   "outputs": [],
   "source": [
    "rides_df = rides_df[['ride_no','tripduration','starttime','start_station_id','end_station_id','usertype','birth_year','gender']]"
   ]
  },
  {
   "cell_type": "code",
   "execution_count": 316,
   "metadata": {},
   "outputs": [],
   "source": [
    "rides_df = rides_df.rename(columns={'start station id': 'start_station_id', 'end station id': 'end_station_id', 'birth year': 'birth_year'})"
   ]
  },
  {
   "cell_type": "code",
   "execution_count": 317,
   "metadata": {},
   "outputs": [],
   "source": [
    "rides_df = rides_df[['ride_no','tripduration','starttime','start_station_id','end_station_id','usertype','birth_year','gender']]"
   ]
  },
  {
   "cell_type": "code",
   "execution_count": 318,
   "metadata": {},
   "outputs": [
    {
     "data": {
      "text/html": [
       "<div>\n",
       "<style scoped>\n",
       "    .dataframe tbody tr th:only-of-type {\n",
       "        vertical-align: middle;\n",
       "    }\n",
       "\n",
       "    .dataframe tbody tr th {\n",
       "        vertical-align: top;\n",
       "    }\n",
       "\n",
       "    .dataframe thead th {\n",
       "        text-align: right;\n",
       "    }\n",
       "</style>\n",
       "<table border=\"1\" class=\"dataframe\">\n",
       "  <thead>\n",
       "    <tr style=\"text-align: right;\">\n",
       "      <th></th>\n",
       "      <th>ride_no</th>\n",
       "      <th>tripduration</th>\n",
       "      <th>starttime</th>\n",
       "      <th>start_station_id</th>\n",
       "      <th>end_station_id</th>\n",
       "      <th>usertype</th>\n",
       "      <th>birth_year</th>\n",
       "      <th>gender</th>\n",
       "    </tr>\n",
       "  </thead>\n",
       "  <tbody>\n",
       "    <tr>\n",
       "      <th>0</th>\n",
       "      <td>1</td>\n",
       "      <td>534</td>\n",
       "      <td>2020-04-01 00:00:15.280</td>\n",
       "      <td>3656</td>\n",
       "      <td>545</td>\n",
       "      <td>Subscriber</td>\n",
       "      <td>1990</td>\n",
       "      <td>2</td>\n",
       "    </tr>\n",
       "    <tr>\n",
       "      <th>1</th>\n",
       "      <td>2</td>\n",
       "      <td>529</td>\n",
       "      <td>2020-04-01 00:02:28.943</td>\n",
       "      <td>3163</td>\n",
       "      <td>3301</td>\n",
       "      <td>Subscriber</td>\n",
       "      <td>1974</td>\n",
       "      <td>1</td>\n",
       "    </tr>\n",
       "    <tr>\n",
       "      <th>2</th>\n",
       "      <td>3</td>\n",
       "      <td>1488</td>\n",
       "      <td>2020-04-01 00:02:56.090</td>\n",
       "      <td>3164</td>\n",
       "      <td>3605</td>\n",
       "      <td>Subscriber</td>\n",
       "      <td>1982</td>\n",
       "      <td>1</td>\n",
       "    </tr>\n",
       "    <tr>\n",
       "      <th>3</th>\n",
       "      <td>4</td>\n",
       "      <td>341</td>\n",
       "      <td>2020-04-01 00:03:25.141</td>\n",
       "      <td>3827</td>\n",
       "      <td>3869</td>\n",
       "      <td>Subscriber</td>\n",
       "      <td>1996</td>\n",
       "      <td>1</td>\n",
       "    </tr>\n",
       "    <tr>\n",
       "      <th>4</th>\n",
       "      <td>5</td>\n",
       "      <td>2206</td>\n",
       "      <td>2020-04-01 00:05:35.279</td>\n",
       "      <td>3890</td>\n",
       "      <td>3058</td>\n",
       "      <td>Subscriber</td>\n",
       "      <td>1977</td>\n",
       "      <td>1</td>\n",
       "    </tr>\n",
       "    <tr>\n",
       "      <th>...</th>\n",
       "      <td>...</td>\n",
       "      <td>...</td>\n",
       "      <td>...</td>\n",
       "      <td>...</td>\n",
       "      <td>...</td>\n",
       "      <td>...</td>\n",
       "      <td>...</td>\n",
       "      <td>...</td>\n",
       "    </tr>\n",
       "    <tr>\n",
       "      <th>1487885</th>\n",
       "      <td>11944126</td>\n",
       "      <td>981</td>\n",
       "      <td>2020-05-31 23:59:19.031</td>\n",
       "      <td>313</td>\n",
       "      <td>217</td>\n",
       "      <td>Subscriber</td>\n",
       "      <td>1972</td>\n",
       "      <td>2</td>\n",
       "    </tr>\n",
       "    <tr>\n",
       "      <th>1487886</th>\n",
       "      <td>11944127</td>\n",
       "      <td>367</td>\n",
       "      <td>2020-05-31 23:59:36.227</td>\n",
       "      <td>545</td>\n",
       "      <td>501</td>\n",
       "      <td>Subscriber</td>\n",
       "      <td>1994</td>\n",
       "      <td>2</td>\n",
       "    </tr>\n",
       "    <tr>\n",
       "      <th>1487887</th>\n",
       "      <td>11944128</td>\n",
       "      <td>1798</td>\n",
       "      <td>2020-05-31 23:59:37.725</td>\n",
       "      <td>450</td>\n",
       "      <td>485</td>\n",
       "      <td>Subscriber</td>\n",
       "      <td>1998</td>\n",
       "      <td>1</td>\n",
       "    </tr>\n",
       "    <tr>\n",
       "      <th>1487888</th>\n",
       "      <td>11944129</td>\n",
       "      <td>718</td>\n",
       "      <td>2020-05-31 23:59:47.709</td>\n",
       "      <td>3691</td>\n",
       "      <td>3691</td>\n",
       "      <td>Customer</td>\n",
       "      <td>1969</td>\n",
       "      <td>0</td>\n",
       "    </tr>\n",
       "    <tr>\n",
       "      <th>1487889</th>\n",
       "      <td>11944130</td>\n",
       "      <td>1168</td>\n",
       "      <td>2020-05-31 23:59:48.066</td>\n",
       "      <td>467</td>\n",
       "      <td>239</td>\n",
       "      <td>Customer</td>\n",
       "      <td>2000</td>\n",
       "      <td>1</td>\n",
       "    </tr>\n",
       "  </tbody>\n",
       "</table>\n",
       "<p>11944130 rows × 8 columns</p>\n",
       "</div>"
      ],
      "text/plain": [
       "          ride_no  tripduration               starttime  start_station_id  \\\n",
       "0               1           534 2020-04-01 00:00:15.280              3656   \n",
       "1               2           529 2020-04-01 00:02:28.943              3163   \n",
       "2               3          1488 2020-04-01 00:02:56.090              3164   \n",
       "3               4           341 2020-04-01 00:03:25.141              3827   \n",
       "4               5          2206 2020-04-01 00:05:35.279              3890   \n",
       "...           ...           ...                     ...               ...   \n",
       "1487885  11944126           981 2020-05-31 23:59:19.031               313   \n",
       "1487886  11944127           367 2020-05-31 23:59:36.227               545   \n",
       "1487887  11944128          1798 2020-05-31 23:59:37.725               450   \n",
       "1487888  11944129           718 2020-05-31 23:59:47.709              3691   \n",
       "1487889  11944130          1168 2020-05-31 23:59:48.066               467   \n",
       "\n",
       "         end_station_id    usertype  birth_year  gender  \n",
       "0                   545  Subscriber        1990       2  \n",
       "1                  3301  Subscriber        1974       1  \n",
       "2                  3605  Subscriber        1982       1  \n",
       "3                  3869  Subscriber        1996       1  \n",
       "4                  3058  Subscriber        1977       1  \n",
       "...                 ...         ...         ...     ...  \n",
       "1487885             217  Subscriber        1972       2  \n",
       "1487886             501  Subscriber        1994       2  \n",
       "1487887             485  Subscriber        1998       1  \n",
       "1487888            3691    Customer        1969       0  \n",
       "1487889             239    Customer        2000       1  \n",
       "\n",
       "[11944130 rows x 8 columns]"
      ]
     },
     "execution_count": 318,
     "metadata": {},
     "output_type": "execute_result"
    }
   ],
   "source": [
    "rides_df"
   ]
  },
  {
   "cell_type": "code",
   "execution_count": 353,
   "metadata": {},
   "outputs": [],
   "source": [
    "create_rides_table = \"\"\" CREATE TABLE rides_df (\n",
    "                        [ride_no] LONG NOT NULL PRIMARY KEY,\n",
    "                        [tripduration] integer,\n",
    "                        [starttime] DATETIME,\n",
    "                        [start_station_id] integer,\n",
    "                        [end_station_id] integer,\n",
    "                        [usertype] text,\n",
    "                        [birth_year] integer,\n",
    "                        [gender] integer,\n",
    "                        FOREIGN KEY ('start_station_id') REFERENCES station_info ('station_id')\n",
    "                        FOREIGN KEY ('end_station_id') REFERENCES station_info ('station_id') );\n",
    "                        \"\"\""
   ]
  },
  {
   "cell_type": "code",
   "execution_count": 354,
   "metadata": {},
   "outputs": [],
   "source": [
    "create_stations_table = \"\"\" CREATE TABLE station_info (\n",
    "                            [station_id] INTEGER NOT NULL PRIMARY KEY,\n",
    "                            [station_location] TEXT,\n",
    "                            [latitude] REAL,\n",
    "                            [longitude] REAL\n",
    "                            );\"\"\""
   ]
  },
  {
   "cell_type": "code",
   "execution_count": 392,
   "metadata": {},
   "outputs": [],
   "source": [
    "conn = sqlite3.connect('sql_1.sqlite3')\n",
    "\n",
    "c = conn.cursor()"
   ]
  },
  {
   "cell_type": "code",
   "execution_count": 373,
   "metadata": {},
   "outputs": [],
   "source": [
    "def get_df_name(df):\n",
    "    name = [x for x in globals() if globals()[x] is df]\n",
    "    name = name[0]\n",
    "    \n",
    "    return name\n"
   ]
  },
  {
   "cell_type": "code",
   "execution_count": 393,
   "metadata": {},
   "outputs": [
    {
     "data": {
      "text/plain": [
       "'rides_df'"
      ]
     },
     "execution_count": 393,
     "metadata": {},
     "output_type": "execute_result"
    }
   ],
   "source": [
    "#@note; make sure names of dfs are retunred correctly. might have to mess around w/ index of get_df_name function\n",
    "#\n",
    "#do no call either table after you have names displayed correctly\n",
    "\n",
    "get_df_name(rides_df)"
   ]
  },
  {
   "cell_type": "code",
   "execution_count": 394,
   "metadata": {},
   "outputs": [
    {
     "data": {
      "text/plain": [
       "'station_info'"
      ]
     },
     "execution_count": 394,
     "metadata": {},
     "output_type": "execute_result"
    }
   ],
   "source": [
    "#@note; make sure names of dfs are retunred correctly. might have to mess around w/ index of get_df_name function\n",
    "\n",
    "\n",
    "get_df_name(station_info)"
   ]
  },
  {
   "cell_type": "code",
   "execution_count": 395,
   "metadata": {},
   "outputs": [],
   "source": [
    "###\n",
    "\n",
    "def create_sql_table(x):\n",
    "    \n",
    "    c.execute(x)\n",
    "    \n",
    "    conn.commit()\n",
    "    \n"
   ]
  },
  {
   "cell_type": "code",
   "execution_count": 396,
   "metadata": {},
   "outputs": [],
   "source": [
    "create_sql_table(create_stations_table)"
   ]
  },
  {
   "cell_type": "code",
   "execution_count": 397,
   "metadata": {},
   "outputs": [],
   "source": [
    "create_sql_table(create_rides_table)"
   ]
  },
  {
   "cell_type": "code",
   "execution_count": 398,
   "metadata": {},
   "outputs": [],
   "source": [
    "def add_data_to_table(x):\n",
    "    \n",
    "    y = get_df_name(x)\n",
    "    \n",
    "    x.to_sql(y, conn, if_exists='append', index=False)    #, if_exists= 'replace', index = False)"
   ]
  },
  {
   "cell_type": "code",
   "execution_count": 399,
   "metadata": {},
   "outputs": [],
   "source": [
    "add_data_to_table(station_info)"
   ]
  },
  {
   "cell_type": "code",
   "execution_count": 400,
   "metadata": {},
   "outputs": [],
   "source": [
    "add_data_to_table(rides_df)"
   ]
  },
  {
   "cell_type": "code",
   "execution_count": 401,
   "metadata": {},
   "outputs": [
    {
     "name": "stdout",
     "output_type": "stream",
     "text": [
      "[('station_info',), ('rides_df',)]\n"
     ]
    }
   ],
   "source": [
    "\n",
    "def sql_fetch():\n",
    "\n",
    "    cursorObj = conn.cursor()\n",
    "\n",
    "    cursorObj.execute('SELECT name from sqlite_master where type= \"table\"')\n",
    "\n",
    "    print(cursorObj.fetchall())\n",
    "\n",
    "sql_fetch()"
   ]
  },
  {
   "cell_type": "code",
   "execution_count": 68,
   "metadata": {},
   "outputs": [],
   "source": []
  },
  {
   "cell_type": "code",
   "execution_count": null,
   "metadata": {},
   "outputs": [],
   "source": [
    "#not used\n",
    "\n",
    "\"\"\"\n",
    "\n",
    "def create_sql_2(data, holder):\n",
    "    \n",
    "    \n",
    "    \n",
    "    q = get_df_name(data)\n",
    "    \n",
    "    c.execute(holder)\n",
    "    \n",
    "    conn.commit()\n",
    "    \n",
    "    data.to_sql(q , conn, if_exists='replace', index = False)\n",
    "\"\"\""
   ]
  },
  {
   "cell_type": "code",
   "execution_count": null,
   "metadata": {},
   "outputs": [],
   "source": [
    "# not used\n",
    "\n",
    "\"\"\" \n",
    "def column_names(df):\n",
    "    all_cols = []\n",
    "    col_list = df.columns.to_list()\n",
    "    for i in col_list:\n",
    "        clean_item = str(i).replace(\" \",\"_\")\n",
    "        all_cols.append(clean_item)\n",
    "            \n",
    "    final_list = str(all_cols).replace(\"[\",\"(\").replace(\"'\",\"\").replace(\"]\",\")\").replace('\"','').replace(\"-\",\"\").replace(\".\",\"pnt\")\n",
    "    \n",
    "    \n",
    "    return final_list\n",
    "\n",
    "\n",
    "\n",
    "def new_table(holder, table_name, data):\n",
    "    \n",
    "    y = holder\n",
    "    \n",
    "    q = table_name\n",
    "    \n",
    "    f = str(f\"'CREATE TABLE {q} {y}'\")\n",
    "    \n",
    "    #f = str(f\"'CREATE TABLE {q} id integer PRIMARY KEY, {y[1:]}'\")\n",
    "    \n",
    "    g = holder\n",
    "    \n",
    "    c.execute(g)\n",
    "    \n",
    "    conn.commit()\n",
    "    \n",
    "    data.to_sql(q , conn, if_exists='replace', index = False)\n",
    "    \n",
    "def add_to_sql(x):\n",
    "    \n",
    "    y = get_df_name(x)\n",
    "    \n",
    "    x.to_sql(y, conn, if_exists= 'replace', index = False)\n",
    "    \n",
    "\"\"\""
   ]
  },
  {
   "cell_type": "code",
   "execution_count": 403,
   "metadata": {},
   "outputs": [],
   "source": []
  },
  {
   "cell_type": "code",
   "execution_count": null,
   "metadata": {},
   "outputs": [],
   "source": []
  }
 ],
 "metadata": {
  "kernelspec": {
   "display_name": "Python 3",
   "language": "python",
   "name": "python3"
  },
  "language_info": {
   "codemirror_mode": {
    "name": "ipython",
    "version": 3
   },
   "file_extension": ".py",
   "mimetype": "text/x-python",
   "name": "python",
   "nbconvert_exporter": "python",
   "pygments_lexer": "ipython3",
   "version": "3.7.6"
  }
 },
 "nbformat": 4,
 "nbformat_minor": 4
}
